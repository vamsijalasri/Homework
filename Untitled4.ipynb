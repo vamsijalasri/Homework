{
 "cells": [
  {
   "cell_type": "code",
   "execution_count": 9,
   "id": "75011d33",
   "metadata": {},
   "outputs": [],
   "source": [
    "s ='This is My First programming class and I am Learning PYTHON Strings and Functins'"
   ]
  },
  {
   "cell_type": "code",
   "execution_count": 3,
   "id": "80be3b5a",
   "metadata": {},
   "outputs": [
    {
     "data": {
      "text/plain": [
       "'This is My First programming class and I am Learning PYTHON Strings and Functins'"
      ]
     },
     "execution_count": 3,
     "metadata": {},
     "output_type": "execute_result"
    }
   ],
   "source": [
    "s"
   ]
  },
  {
   "cell_type": "code",
   "execution_count": 3,
   "id": "b2db2ab4",
   "metadata": {},
   "outputs": [
    {
     "data": {
      "text/plain": [
       "'h   r oai a d  ai TNtn duts'"
      ]
     },
     "execution_count": 3,
     "metadata": {},
     "output_type": "execute_result"
    }
   ],
   "source": [
    "s[1:300:3]"
   ]
  },
  {
   "cell_type": "code",
   "execution_count": 4,
   "id": "bb193ed3",
   "metadata": {},
   "outputs": [
    {
     "data": {
      "text/plain": [
       "'snitcnuF dna sgnirtS NOHTYP gninraeL ma I dna ssalc gnimmargorp tsriF yM si sihT'"
      ]
     },
     "execution_count": 4,
     "metadata": {},
     "output_type": "execute_result"
    }
   ],
   "source": [
    "s[::-1]"
   ]
  },
  {
   "cell_type": "code",
   "execution_count": 32,
   "id": "2ce15d3d",
   "metadata": {},
   "outputs": [
    {
     "data": {
      "text/plain": [
       "'This is My First programming class and I am Learning PYTHON Strings and Functins'"
      ]
     },
     "execution_count": 32,
     "metadata": {},
     "output_type": "execute_result"
    }
   ],
   "source": [
    "s"
   ]
  },
  {
   "cell_type": "markdown",
   "id": "51917651",
   "metadata": {},
   "source": [
    "d"
   ]
  },
  {
   "cell_type": "code",
   "execution_count": 34,
   "id": "aa8eae6a",
   "metadata": {},
   "outputs": [
    {
     "data": {
      "text/plain": [
       "'THIS IS MY FIRST PROGRAMMING CLASS AND I AM LEARNING PYTHON STRINGS AND FUNCTINS'"
      ]
     },
     "execution_count": 34,
     "metadata": {},
     "output_type": "execute_result"
    }
   ],
   "source": [
    "s.upper()\n"
   ]
  },
  {
   "cell_type": "code",
   "execution_count": 45,
   "id": "d738a03f",
   "metadata": {
    "scrolled": true
   },
   "outputs": [
    {
     "data": {
      "text/plain": [
       "['This is My First programming class and I am Learning PYTHON Strings and Functins']"
      ]
     },
     "execution_count": 45,
     "metadata": {},
     "output_type": "execute_result"
    }
   ],
   "source": [
    "s.split(' ',0)"
   ]
  },
  {
   "cell_type": "markdown",
   "id": "e918e4a0",
   "metadata": {},
   "source": [
    "###### "
   ]
  },
  {
   "cell_type": "code",
   "execution_count": 50,
   "id": "5df3c48f",
   "metadata": {},
   "outputs": [
    {
     "data": {
      "text/plain": [
       "str"
      ]
     },
     "execution_count": 50,
     "metadata": {},
     "output_type": "execute_result"
    }
   ],
   "source": [
    "type(s)"
   ]
  },
  {
   "cell_type": "code",
   "execution_count": 53,
   "id": "7c808a6c",
   "metadata": {},
   "outputs": [
    {
     "data": {
      "text/plain": [
       "'This is my first programming class and i am learning python strings and functins'"
      ]
     },
     "execution_count": 53,
     "metadata": {},
     "output_type": "execute_result"
    }
   ],
   "source": [
    "s.capitalize() #Caplitlize only the first word in the string"
   ]
  },
  {
   "cell_type": "code",
   "execution_count": 58,
   "id": "2944eef6",
   "metadata": {},
   "outputs": [
    {
     "data": {
      "text/plain": [
       "False"
      ]
     },
     "execution_count": 58,
     "metadata": {},
     "output_type": "execute_result"
    }
   ],
   "source": [
    "s.isalnum() #combination of both Alphabets and Numerics"
   ]
  },
  {
   "cell_type": "code",
   "execution_count": 10,
   "id": "03fda667",
   "metadata": {},
   "outputs": [
    {
     "data": {
      "text/plain": [
       "False"
      ]
     },
     "execution_count": 10,
     "metadata": {},
     "output_type": "execute_result"
    }
   ],
   "source": [
    "s.isalpha() #only alphabets"
   ]
  },
  {
   "cell_type": "code",
   "execution_count": 15,
   "id": "ff089ef0",
   "metadata": {},
   "outputs": [],
   "source": [
    "d =\"Vamsi\\tJalasri\\tData Scientist\""
   ]
  },
  {
   "cell_type": "code",
   "execution_count": 16,
   "id": "c6a8013f",
   "metadata": {},
   "outputs": [
    {
     "data": {
      "text/plain": [
       "'Vamsi   Jalasri Data Scientist'"
      ]
     },
     "execution_count": 16,
     "metadata": {},
     "output_type": "execute_result"
    }
   ],
   "source": [
    "d.expandtabs()"
   ]
  },
  {
   "cell_type": "code",
   "execution_count": 20,
   "id": "53476e36",
   "metadata": {},
   "outputs": [],
   "source": [
    "f=\" Vam jAl \""
   ]
  },
  {
   "cell_type": "code",
   "execution_count": 21,
   "id": "42e2f35c",
   "metadata": {},
   "outputs": [
    {
     "data": {
      "text/plain": [
       "'Vam jAl'"
      ]
     },
     "execution_count": 21,
     "metadata": {},
     "output_type": "execute_result"
    }
   ],
   "source": [
    "f.strip()"
   ]
  },
  {
   "cell_type": "code",
   "execution_count": 22,
   "id": "31499965",
   "metadata": {},
   "outputs": [
    {
     "data": {
      "text/plain": [
       "'Vam jAl '"
      ]
     },
     "execution_count": 22,
     "metadata": {},
     "output_type": "execute_result"
    }
   ],
   "source": [
    "f.lstrip()"
   ]
  },
  {
   "cell_type": "code",
   "execution_count": 23,
   "id": "2753c9a2",
   "metadata": {},
   "outputs": [
    {
     "data": {
      "text/plain": [
       "' Vam jAl'"
      ]
     },
     "execution_count": 23,
     "metadata": {},
     "output_type": "execute_result"
    }
   ],
   "source": [
    "f.rstrip()"
   ]
  },
  {
   "cell_type": "code",
   "execution_count": 24,
   "id": "aad883e6",
   "metadata": {},
   "outputs": [
    {
     "data": {
      "text/plain": [
       "'This is My First programming class and I am Learning PYTHON Strings and Functins'"
      ]
     },
     "execution_count": 24,
     "metadata": {},
     "output_type": "execute_result"
    }
   ],
   "source": [
    "s"
   ]
  },
  {
   "cell_type": "code",
   "execution_count": 26,
   "id": "a9e8be61",
   "metadata": {},
   "outputs": [
    {
     "data": {
      "text/plain": [
       "'ThiVAMSI iVAMSI My FirVAMSIt programming claVAMSIVAMSI and I am Learning PYTHON StringVAMSI and FunctinVAMSI'"
      ]
     },
     "execution_count": 26,
     "metadata": {},
     "output_type": "execute_result"
    }
   ],
   "source": [
    "s.replace('s','VAMSI')"
   ]
  },
  {
   "cell_type": "code",
   "execution_count": 27,
   "id": "d1af8ce4",
   "metadata": {},
   "outputs": [
    {
     "data": {
      "text/plain": [
       "'This is My First programming class and I am Learning PYTHON Strings and Functins'"
      ]
     },
     "execution_count": 27,
     "metadata": {},
     "output_type": "execute_result"
    }
   ],
   "source": [
    "s"
   ]
  },
  {
   "cell_type": "code",
   "execution_count": 41,
   "id": "b3f69767",
   "metadata": {},
   "outputs": [
    {
     "data": {
      "text/plain": [
       "'zzzzzThis is My First programming class and I am Learning PYTHON Strings and Functinszzzzz'"
      ]
     },
     "execution_count": 41,
     "metadata": {},
     "output_type": "execute_result"
    }
   ],
   "source": [
    "s.center(90,'z')"
   ]
  },
  {
   "cell_type": "code",
   "execution_count": 40,
   "id": "98f47dab",
   "metadata": {},
   "outputs": [
    {
     "data": {
      "text/plain": [
       "80"
      ]
     },
     "execution_count": 40,
     "metadata": {},
     "output_type": "execute_result"
    }
   ],
   "source": [
    "len(s)"
   ]
  },
  {
   "cell_type": "code",
   "execution_count": null,
   "id": "6962f9e5",
   "metadata": {},
   "outputs": [],
   "source": []
  }
 ],
 "metadata": {
  "kernelspec": {
   "display_name": "Python 3 (ipykernel)",
   "language": "python",
   "name": "python3"
  },
  "language_info": {
   "codemirror_mode": {
    "name": "ipython",
    "version": 3
   },
   "file_extension": ".py",
   "mimetype": "text/x-python",
   "name": "python",
   "nbconvert_exporter": "python",
   "pygments_lexer": "ipython3",
   "version": "3.9.12"
  }
 },
 "nbformat": 4,
 "nbformat_minor": 5
}
